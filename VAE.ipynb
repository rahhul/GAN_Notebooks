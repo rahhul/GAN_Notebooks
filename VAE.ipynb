{
  "nbformat": 4,
  "nbformat_minor": 0,
  "metadata": {
    "colab": {
      "name": "VAE.ipynb",
      "provenance": [],
      "collapsed_sections": [],
      "authorship_tag": "ABX9TyO6WfXzsS5KSym/y9OrwTUI"
    },
    "kernelspec": {
      "name": "python3",
      "display_name": "Python 3"
    },
    "accelerator": "GPU"
  },
  "cells": [
    {
      "cell_type": "markdown",
      "metadata": {
        "id": "s68bHNYSn0nw",
        "colab_type": "text"
      },
      "source": [
        "# Variational Autoencoders"
      ]
    },
    {
      "cell_type": "code",
      "metadata": {
        "id": "67WOSPq2nkZt",
        "colab_type": "code",
        "colab": {
          "base_uri": "https://localhost:8080/",
          "height": 34
        },
        "outputId": "fa36251d-d0ff-4ab6-f383-8046ccf331f6"
      },
      "source": [
        "%tensorflow_version 2.x"
      ],
      "execution_count": 1,
      "outputs": [
        {
          "output_type": "stream",
          "text": [
            "TensorFlow 2.x selected.\n"
          ],
          "name": "stdout"
        }
      ]
    },
    {
      "cell_type": "code",
      "metadata": {
        "id": "PVGYrJ6znwEe",
        "colab_type": "code",
        "colab": {}
      },
      "source": [
        "import sklearn\n",
        "\n",
        "import tensorflow as tf\n",
        "from tensorflow import keras\n",
        "\n",
        "import numpy as np\n",
        "import pandas as pd\n",
        "\n",
        "np.random.seed(42)\n",
        "tf.random.set_seed(42)\n",
        "\n",
        "%matplotlib inline\n",
        "import matplotlib.pyplot as plt\n",
        "import matplotlib as mpl\n"
      ],
      "execution_count": 0,
      "outputs": []
    },
    {
      "cell_type": "markdown",
      "metadata": {
        "id": "JKE3opRLn5lF",
        "colab_type": "text"
      },
      "source": [
        "## Fashion MNIST"
      ]
    },
    {
      "cell_type": "code",
      "metadata": {
        "id": "tKgAI6vIo-Cp",
        "colab_type": "code",
        "colab": {}
      },
      "source": [
        "from tensorflow.keras.datasets import fashion_mnist"
      ],
      "execution_count": 0,
      "outputs": []
    },
    {
      "cell_type": "code",
      "metadata": {
        "id": "vs0uW2lYpCnC",
        "colab_type": "code",
        "colab": {
          "base_uri": "https://localhost:8080/",
          "height": 170
        },
        "outputId": "e0edf878-a306-41a2-9576-5d1bb43e665f"
      },
      "source": [
        "(x_train, _), (x_test, _) = fashion_mnist.load_data()\n",
        "\n",
        "# float 32 and scale to 0 - 1\n",
        "x_train = x_train.astype(np.float32) / 255.0\n",
        "x_test = x_test.astype(np.float32) / 255.0\n",
        "\n",
        "print(x_train.shape, x_test.shape)"
      ],
      "execution_count": 6,
      "outputs": [
        {
          "output_type": "stream",
          "text": [
            "Downloading data from https://storage.googleapis.com/tensorflow/tf-keras-datasets/train-labels-idx1-ubyte.gz\n",
            "32768/29515 [=================================] - 0s 0us/step\n",
            "Downloading data from https://storage.googleapis.com/tensorflow/tf-keras-datasets/train-images-idx3-ubyte.gz\n",
            "26427392/26421880 [==============================] - 0s 0us/step\n",
            "Downloading data from https://storage.googleapis.com/tensorflow/tf-keras-datasets/t10k-labels-idx1-ubyte.gz\n",
            "8192/5148 [===============================================] - 0s 0us/step\n",
            "Downloading data from https://storage.googleapis.com/tensorflow/tf-keras-datasets/t10k-images-idx3-ubyte.gz\n",
            "4423680/4422102 [==============================] - 0s 0us/step\n",
            "(60000, 28, 28) (10000, 28, 28)\n"
          ],
          "name": "stdout"
        }
      ]
    },
    {
      "cell_type": "markdown",
      "metadata": {
        "id": "tWLiB0FzpgsJ",
        "colab_type": "text"
      },
      "source": [
        "A custom layer to sample the codings"
      ]
    },
    {
      "cell_type": "markdown",
      "metadata": {
        "id": "mD1XNVdWrpgW",
        "colab_type": "text"
      },
      "source": [
        "\\begin{align}\n",
        "\\sigma and \n",
        "\\mu\n",
        "\\end{align}"
      ]
    },
    {
      "cell_type": "code",
      "metadata": {
        "id": "KBw5JdVjsSTh",
        "colab_type": "code",
        "colab": {}
      },
      "source": [
        "import tensorflow.keras.backend as K\n",
        "\n",
        "from tensorflow.keras.layers import Input, Flatten, Dense, Reshape\n",
        "from tensorflow.keras.models import Model"
      ],
      "execution_count": 0,
      "outputs": []
    },
    {
      "cell_type": "code",
      "metadata": {
        "id": "JunTIKDyrsg8",
        "colab_type": "code",
        "colab": {}
      },
      "source": [
        "class Sampling(tf.keras.layers.Layer):\n",
        "    def call(self, inputs):\n",
        "        mean, log_var = inputs\n",
        "        return K.random_normal(tf.shape(log_var)) * K.exp(log_var/2) + mean"
      ],
      "execution_count": 0,
      "outputs": []
    },
    {
      "cell_type": "code",
      "metadata": {
        "id": "jvy0QOtTsi5O",
        "colab_type": "code",
        "colab": {}
      },
      "source": [
        "np.random.seed(42)\n",
        "tf.random.set_seed(42)\n",
        "\n",
        "codings_size = 10\n",
        "\n",
        "# functional API\n",
        "\n",
        "# input layer\n",
        "inputs = Input(shape=[28, 28])\n",
        "# flatten input\n",
        "z = Flatten()(inputs)\n",
        "# Dense 1\n",
        "z = Dense(150, activation='selu')(z)\n",
        "# Dense 2\n",
        "z = Dense(100, activation='selu')(z)\n",
        "\n",
        "# split into 'codings_mean' and 'codings_log_var'\n",
        "codings_mean = Dense(codings_size)(z)\n",
        "codings_log_var = Dense(codings_size)(z)\n",
        "\n",
        "codings = Sampling()([codings_mean, codings_log_var])\n",
        "\n",
        "# variational encoder\n",
        "variational_encoder = Model(inputs=[inputs], outputs=[codings_mean, codings_log_var, codings])\n",
        "\n",
        "# decoder\n",
        "decoder_inputs = Input(shape=[codings_size])\n",
        "# Dense 1\n",
        "x = Dense(100, activation='selu')(decoder_inputs)\n",
        "# Dense 2\n",
        "x = Dense(150, activation='selu')(x)\n",
        "# Dense 3\n",
        "x = Dense(28 * 28, activation='sigmoid')(x)\n",
        "# Reshape into 28 * 28\n",
        "outputs = Reshape(target_shape=[28, 28])(x)\n",
        "\n",
        "# variational decoder\n",
        "variational_decoder = Model(inputs=[decoder_inputs], outputs=[outputs])\n",
        "\n",
        "_, _, codings = variational_encoder(inputs)\n",
        "reconstructions = variational_decoder(codings)\n",
        "\n",
        "# variational auto-encoder\n",
        "variational_ae = Model(inputs=[inputs], outputs=[reconstructions])\n",
        "\n"
      ],
      "execution_count": 0,
      "outputs": []
    },
    {
      "cell_type": "code",
      "metadata": {
        "id": "K5l44w2sxKwn",
        "colab_type": "code",
        "colab": {}
      },
      "source": [
        "# Latent Loss\n",
        "\n",
        "latent_loss = -0.5 * K.sum(\n",
        "    1 + codings_log_var - K.exp(codings_log_var) - K.square(codings_mean), axis=-1\n",
        ")\n",
        "\n",
        "variational_ae.add_loss(K.mean(latent_loss)/784.0)\n"
      ],
      "execution_count": 0,
      "outputs": []
    },
    {
      "cell_type": "code",
      "metadata": {
        "id": "jCM4ON-KxoR2",
        "colab_type": "code",
        "colab": {}
      },
      "source": [
        "# compile\n",
        "\n",
        "variational_ae.compile(loss='binary_crossentropy', optimizer='rmsprop')"
      ],
      "execution_count": 0,
      "outputs": []
    },
    {
      "cell_type": "code",
      "metadata": {
        "id": "cjZIeDxmxw-3",
        "colab_type": "code",
        "colab": {
          "base_uri": "https://localhost:8080/",
          "height": 1000
        },
        "outputId": "9bbb6087-939a-45c7-dc55-baf1420145c7"
      },
      "source": [
        "# train\n",
        "\n",
        "history = variational_ae.fit(x_train, x_train, epochs=100, batch_size=128,\n",
        "                             validation_data = [x_test, x_test])"
      ],
      "execution_count": 14,
      "outputs": [
        {
          "output_type": "stream",
          "text": [
            "Train on 60000 samples, validate on 10000 samples\n",
            "Epoch 1/100\n",
            "60000/60000 [==============================] - 5s 89us/sample - loss: 0.3866 - val_loss: 0.3491\n",
            "Epoch 2/100\n",
            "60000/60000 [==============================] - 3s 47us/sample - loss: 0.3412 - val_loss: 0.3398\n",
            "Epoch 3/100\n",
            "60000/60000 [==============================] - 3s 46us/sample - loss: 0.3313 - val_loss: 0.3315\n",
            "Epoch 4/100\n",
            "60000/60000 [==============================] - 3s 47us/sample - loss: 0.3264 - val_loss: 0.3287\n",
            "Epoch 5/100\n",
            "60000/60000 [==============================] - 3s 46us/sample - loss: 0.3233 - val_loss: 0.3240\n",
            "Epoch 6/100\n",
            "60000/60000 [==============================] - 3s 47us/sample - loss: 0.3212 - val_loss: 0.3225\n",
            "Epoch 7/100\n",
            "60000/60000 [==============================] - 3s 46us/sample - loss: 0.3197 - val_loss: 0.3213\n",
            "Epoch 8/100\n",
            "60000/60000 [==============================] - 3s 46us/sample - loss: 0.3185 - val_loss: 0.3213\n",
            "Epoch 9/100\n",
            "60000/60000 [==============================] - 3s 47us/sample - loss: 0.3176 - val_loss: 0.3201\n",
            "Epoch 10/100\n",
            "60000/60000 [==============================] - 3s 47us/sample - loss: 0.3168 - val_loss: 0.3176\n",
            "Epoch 11/100\n",
            "60000/60000 [==============================] - 3s 48us/sample - loss: 0.3161 - val_loss: 0.3179\n",
            "Epoch 12/100\n",
            "60000/60000 [==============================] - 3s 47us/sample - loss: 0.3156 - val_loss: 0.3156\n",
            "Epoch 13/100\n",
            "60000/60000 [==============================] - 3s 47us/sample - loss: 0.3151 - val_loss: 0.3170\n",
            "Epoch 14/100\n",
            "60000/60000 [==============================] - 3s 47us/sample - loss: 0.3146 - val_loss: 0.3161\n",
            "Epoch 15/100\n",
            "60000/60000 [==============================] - 3s 47us/sample - loss: 0.3142 - val_loss: 0.3170\n",
            "Epoch 16/100\n",
            "60000/60000 [==============================] - 3s 46us/sample - loss: 0.3138 - val_loss: 0.3168\n",
            "Epoch 17/100\n",
            "60000/60000 [==============================] - 3s 46us/sample - loss: 0.3135 - val_loss: 0.3172\n",
            "Epoch 18/100\n",
            "60000/60000 [==============================] - 3s 46us/sample - loss: 0.3132 - val_loss: 0.3144\n",
            "Epoch 19/100\n",
            "60000/60000 [==============================] - 3s 48us/sample - loss: 0.3130 - val_loss: 0.3141\n",
            "Epoch 20/100\n",
            "60000/60000 [==============================] - 3s 49us/sample - loss: 0.3126 - val_loss: 0.3145\n",
            "Epoch 21/100\n",
            "60000/60000 [==============================] - 3s 48us/sample - loss: 0.3125 - val_loss: 0.3155\n",
            "Epoch 22/100\n",
            "60000/60000 [==============================] - 3s 49us/sample - loss: 0.3122 - val_loss: 0.3162\n",
            "Epoch 23/100\n",
            "60000/60000 [==============================] - 3s 47us/sample - loss: 0.3120 - val_loss: 0.3132\n",
            "Epoch 24/100\n",
            "60000/60000 [==============================] - 3s 47us/sample - loss: 0.3118 - val_loss: 0.3163\n",
            "Epoch 25/100\n",
            "60000/60000 [==============================] - 3s 46us/sample - loss: 0.3117 - val_loss: 0.3135\n",
            "Epoch 26/100\n",
            "60000/60000 [==============================] - 3s 46us/sample - loss: 0.3115 - val_loss: 0.3124\n",
            "Epoch 27/100\n",
            "60000/60000 [==============================] - 3s 46us/sample - loss: 0.3114 - val_loss: 0.3137\n",
            "Epoch 28/100\n",
            "60000/60000 [==============================] - 3s 46us/sample - loss: 0.3111 - val_loss: 0.3134\n",
            "Epoch 29/100\n",
            "60000/60000 [==============================] - 3s 46us/sample - loss: 0.3110 - val_loss: 0.3135\n",
            "Epoch 30/100\n",
            "60000/60000 [==============================] - 3s 46us/sample - loss: 0.3109 - val_loss: 0.3125\n",
            "Epoch 31/100\n",
            "60000/60000 [==============================] - 3s 46us/sample - loss: 0.3107 - val_loss: 0.3128\n",
            "Epoch 32/100\n",
            "60000/60000 [==============================] - 3s 47us/sample - loss: 0.3106 - val_loss: 0.3129\n",
            "Epoch 33/100\n",
            "60000/60000 [==============================] - 3s 47us/sample - loss: 0.3106 - val_loss: 0.3124\n",
            "Epoch 34/100\n",
            "60000/60000 [==============================] - 3s 47us/sample - loss: 0.3104 - val_loss: 0.3148\n",
            "Epoch 35/100\n",
            "60000/60000 [==============================] - 3s 47us/sample - loss: 0.3103 - val_loss: 0.3137\n",
            "Epoch 36/100\n",
            "60000/60000 [==============================] - 3s 46us/sample - loss: 0.3103 - val_loss: 0.3127\n",
            "Epoch 37/100\n",
            "60000/60000 [==============================] - 3s 47us/sample - loss: 0.3101 - val_loss: 0.3138\n",
            "Epoch 38/100\n",
            "60000/60000 [==============================] - 3s 46us/sample - loss: 0.3101 - val_loss: 0.3131\n",
            "Epoch 39/100\n",
            "60000/60000 [==============================] - 3s 47us/sample - loss: 0.3099 - val_loss: 0.3119\n",
            "Epoch 40/100\n",
            "60000/60000 [==============================] - 3s 46us/sample - loss: 0.3099 - val_loss: 0.3114\n",
            "Epoch 41/100\n",
            "60000/60000 [==============================] - 3s 48us/sample - loss: 0.3098 - val_loss: 0.3133\n",
            "Epoch 42/100\n",
            "60000/60000 [==============================] - 3s 47us/sample - loss: 0.3097 - val_loss: 0.3130\n",
            "Epoch 43/100\n",
            "60000/60000 [==============================] - 3s 47us/sample - loss: 0.3096 - val_loss: 0.3108\n",
            "Epoch 44/100\n",
            "60000/60000 [==============================] - 3s 47us/sample - loss: 0.3095 - val_loss: 0.3121\n",
            "Epoch 45/100\n",
            "60000/60000 [==============================] - 3s 47us/sample - loss: 0.3095 - val_loss: 0.3120\n",
            "Epoch 46/100\n",
            "60000/60000 [==============================] - 3s 47us/sample - loss: 0.3094 - val_loss: 0.3122\n",
            "Epoch 47/100\n",
            "60000/60000 [==============================] - 3s 47us/sample - loss: 0.3093 - val_loss: 0.3117\n",
            "Epoch 48/100\n",
            "60000/60000 [==============================] - 3s 47us/sample - loss: 0.3093 - val_loss: 0.3110\n",
            "Epoch 49/100\n",
            "60000/60000 [==============================] - 3s 47us/sample - loss: 0.3092 - val_loss: 0.3121\n",
            "Epoch 50/100\n",
            "60000/60000 [==============================] - 3s 47us/sample - loss: 0.3092 - val_loss: 0.3116\n",
            "Epoch 51/100\n",
            "60000/60000 [==============================] - 3s 46us/sample - loss: 0.3091 - val_loss: 0.3118\n",
            "Epoch 52/100\n",
            "60000/60000 [==============================] - 3s 47us/sample - loss: 0.3090 - val_loss: 0.3114\n",
            "Epoch 53/100\n",
            "60000/60000 [==============================] - 3s 46us/sample - loss: 0.3090 - val_loss: 0.3108\n",
            "Epoch 54/100\n",
            "60000/60000 [==============================] - 3s 47us/sample - loss: 0.3089 - val_loss: 0.3099\n",
            "Epoch 55/100\n",
            "60000/60000 [==============================] - 3s 46us/sample - loss: 0.3088 - val_loss: 0.3130\n",
            "Epoch 56/100\n",
            "60000/60000 [==============================] - 3s 47us/sample - loss: 0.3088 - val_loss: 0.3113\n",
            "Epoch 57/100\n",
            "60000/60000 [==============================] - 3s 47us/sample - loss: 0.3088 - val_loss: 0.3111\n",
            "Epoch 58/100\n",
            "60000/60000 [==============================] - 3s 47us/sample - loss: 0.3087 - val_loss: 0.3113\n",
            "Epoch 59/100\n",
            "60000/60000 [==============================] - 3s 47us/sample - loss: 0.3086 - val_loss: 0.3114\n",
            "Epoch 60/100\n",
            "60000/60000 [==============================] - 3s 47us/sample - loss: 0.3086 - val_loss: 0.3119\n",
            "Epoch 61/100\n",
            "60000/60000 [==============================] - 3s 47us/sample - loss: 0.3086 - val_loss: 0.3110\n",
            "Epoch 62/100\n",
            "60000/60000 [==============================] - 3s 47us/sample - loss: 0.3085 - val_loss: 0.3106\n",
            "Epoch 63/100\n",
            "60000/60000 [==============================] - 3s 47us/sample - loss: 0.3085 - val_loss: 0.3125\n",
            "Epoch 64/100\n",
            "60000/60000 [==============================] - 3s 47us/sample - loss: 0.3084 - val_loss: 0.3104\n",
            "Epoch 65/100\n",
            "60000/60000 [==============================] - 3s 47us/sample - loss: 0.3084 - val_loss: 0.3113\n",
            "Epoch 66/100\n",
            "60000/60000 [==============================] - 3s 47us/sample - loss: 0.3083 - val_loss: 0.3117\n",
            "Epoch 67/100\n",
            "60000/60000 [==============================] - 3s 48us/sample - loss: 0.3083 - val_loss: 0.3120\n",
            "Epoch 68/100\n",
            "60000/60000 [==============================] - 3s 48us/sample - loss: 0.3082 - val_loss: 0.3106\n",
            "Epoch 69/100\n",
            "60000/60000 [==============================] - 3s 48us/sample - loss: 0.3082 - val_loss: 0.3109\n",
            "Epoch 70/100\n",
            "60000/60000 [==============================] - 3s 47us/sample - loss: 0.3081 - val_loss: 0.3102\n",
            "Epoch 71/100\n",
            "60000/60000 [==============================] - 3s 47us/sample - loss: 0.3081 - val_loss: 0.3112\n",
            "Epoch 72/100\n",
            "60000/60000 [==============================] - 3s 47us/sample - loss: 0.3081 - val_loss: 0.3126\n",
            "Epoch 73/100\n",
            "60000/60000 [==============================] - 3s 48us/sample - loss: 0.3080 - val_loss: 0.3109\n",
            "Epoch 74/100\n",
            "60000/60000 [==============================] - 3s 47us/sample - loss: 0.3080 - val_loss: 0.3126\n",
            "Epoch 75/100\n",
            "60000/60000 [==============================] - 3s 47us/sample - loss: 0.3079 - val_loss: 0.3110\n",
            "Epoch 76/100\n",
            "60000/60000 [==============================] - 3s 48us/sample - loss: 0.3079 - val_loss: 0.3104\n",
            "Epoch 77/100\n",
            "60000/60000 [==============================] - 3s 47us/sample - loss: 0.3079 - val_loss: 0.3131\n",
            "Epoch 78/100\n",
            "60000/60000 [==============================] - 3s 48us/sample - loss: 0.3079 - val_loss: 0.3103\n",
            "Epoch 79/100\n",
            "60000/60000 [==============================] - 3s 47us/sample - loss: 0.3078 - val_loss: 0.3111\n",
            "Epoch 80/100\n",
            "60000/60000 [==============================] - 3s 47us/sample - loss: 0.3078 - val_loss: 0.3115\n",
            "Epoch 81/100\n",
            "60000/60000 [==============================] - 3s 48us/sample - loss: 0.3077 - val_loss: 0.3103\n",
            "Epoch 82/100\n",
            "60000/60000 [==============================] - 3s 47us/sample - loss: 0.3077 - val_loss: 0.3111\n",
            "Epoch 83/100\n",
            "60000/60000 [==============================] - 3s 47us/sample - loss: 0.3077 - val_loss: 0.3105\n",
            "Epoch 84/100\n",
            "60000/60000 [==============================] - 3s 47us/sample - loss: 0.3076 - val_loss: 0.3097\n",
            "Epoch 85/100\n",
            "60000/60000 [==============================] - 3s 47us/sample - loss: 0.3076 - val_loss: 0.3094\n",
            "Epoch 86/100\n",
            "60000/60000 [==============================] - 3s 47us/sample - loss: 0.3076 - val_loss: 0.3107\n",
            "Epoch 87/100\n",
            "60000/60000 [==============================] - 3s 47us/sample - loss: 0.3075 - val_loss: 0.3123\n",
            "Epoch 88/100\n",
            "60000/60000 [==============================] - 3s 48us/sample - loss: 0.3076 - val_loss: 0.3096\n",
            "Epoch 89/100\n",
            "60000/60000 [==============================] - 3s 47us/sample - loss: 0.3075 - val_loss: 0.3101\n",
            "Epoch 90/100\n",
            "60000/60000 [==============================] - 3s 47us/sample - loss: 0.3074 - val_loss: 0.3102\n",
            "Epoch 91/100\n",
            "60000/60000 [==============================] - 3s 48us/sample - loss: 0.3074 - val_loss: 0.3099\n",
            "Epoch 92/100\n",
            "60000/60000 [==============================] - 3s 47us/sample - loss: 0.3074 - val_loss: 0.3102\n",
            "Epoch 93/100\n",
            "60000/60000 [==============================] - 3s 47us/sample - loss: 0.3073 - val_loss: 0.3097\n",
            "Epoch 94/100\n",
            "60000/60000 [==============================] - 3s 48us/sample - loss: 0.3073 - val_loss: 0.3090\n",
            "Epoch 95/100\n",
            "60000/60000 [==============================] - 3s 48us/sample - loss: 0.3073 - val_loss: 0.3096\n",
            "Epoch 96/100\n",
            "60000/60000 [==============================] - 3s 48us/sample - loss: 0.3073 - val_loss: 0.3108\n",
            "Epoch 97/100\n",
            "60000/60000 [==============================] - 3s 47us/sample - loss: 0.3072 - val_loss: 0.3101\n",
            "Epoch 98/100\n",
            "60000/60000 [==============================] - 3s 48us/sample - loss: 0.3072 - val_loss: 0.3097\n",
            "Epoch 99/100\n",
            "60000/60000 [==============================] - 3s 48us/sample - loss: 0.3073 - val_loss: 0.3105\n",
            "Epoch 100/100\n",
            "60000/60000 [==============================] - 3s 48us/sample - loss: 0.3072 - val_loss: 0.3089\n"
          ],
          "name": "stdout"
        }
      ]
    },
    {
      "cell_type": "code",
      "metadata": {
        "id": "uryVcx3syAKb",
        "colab_type": "code",
        "colab": {}
      },
      "source": [
        "# RECONSTRUCTIONS Utility function\n",
        "\n",
        "def plot_image(image):\n",
        "    plt.imshow(image)\n",
        "    plt.axis('off')\n",
        "    plt.gray()\n",
        "plt.show()"
      ],
      "execution_count": 0,
      "outputs": []
    },
    {
      "cell_type": "code",
      "metadata": {
        "id": "T9asVyuEzSgs",
        "colab_type": "code",
        "colab": {}
      },
      "source": [
        "def show_reconstructions(model, images=x_test, n_images=10):\n",
        "    reconstructions = model.predict(images[:n_images])\n",
        "    fig = plt.figure(figsize=(n_images * 1.5, 3))\n",
        "    for image_index in range(n_images):\n",
        "        plt.subplot(2, n_images, 1 + image_index)\n",
        "        plot_image(images[image_index])\n",
        "        plt.subplot(2, n_images, 1 + n_images + image_index)\n",
        "        plot_image(reconstructions[image_index])\n",
        "plt.show()"
      ],
      "execution_count": 0,
      "outputs": []
    },
    {
      "cell_type": "code",
      "metadata": {
        "id": "AbCRzcENzrl5",
        "colab_type": "code",
        "colab": {
          "base_uri": "https://localhost:8080/",
          "height": 191
        },
        "outputId": "f50cdc26-84d4-4acd-b2cf-695080f67bed"
      },
      "source": [
        "show_reconstructions(variational_ae)\n",
        "plt.show()"
      ],
      "execution_count": 38,
      "outputs": [
        {
          "output_type": "display_data",
          "data": {
            "image/png": "[encoded data removed]",
            "text/plain": [
              "<Figure size 1080x216 with 20 Axes>"
            ]
          },
          "metadata": {
            "tags": []
          }
        }
      ]
    },
    {
      "cell_type": "markdown",
      "metadata": {
        "id": "ot6IC75fz5ea",
        "colab_type": "text"
      },
      "source": [
        "## Generate new Images"
      ]
    },
    {
      "cell_type": "code",
      "metadata": {
        "id": "i8QDDThH0b4e",
        "colab_type": "code",
        "colab": {}
      },
      "source": [
        "def plot_multiple_images(images, n_cols=None):\n",
        "    n_cols = n_cols or len(images)\n",
        "    n_rows = (len(images) - 1) // n_cols + 1\n",
        "    if images.shape[-1] == 1:\n",
        "        images = np.squeeze(images, axis=-1)\n",
        "    plt.figure(figsize=(12, 6))\n",
        "    for index, image in enumerate(images):\n",
        "        plt.subplot(n_rows, n_cols, index + 1)\n",
        "        plt.imshow(image, cmap=\"binary\")\n",
        "        plt.axis(\"off\")"
      ],
      "execution_count": 0,
      "outputs": []
    },
    {
      "cell_type": "code",
      "metadata": {
        "id": "ok7IY5hh_H73",
        "colab_type": "code",
        "colab": {
          "base_uri": "https://localhost:8080/",
          "height": 357
        },
        "outputId": "8fe06586-17aa-491c-d6fe-6d02447bab80"
      },
      "source": [
        "tf.random.set_seed(42)\n",
        "\n",
        "codings = tf.random.normal(shape=[12, codings_size])\n",
        "\n",
        "images = variational_decoder(codings).numpy()\n",
        "\n",
        "plot_multiple_images(images, 4)"
      ],
      "execution_count": 50,
      "outputs": [
        {
          "output_type": "display_data",
          "data": {
            "image/png": "[encoded data removed]",
            "text/plain": [
              "<Figure size 864x432 with 12 Axes>"
            ]
          },
          "metadata": {
            "tags": []
          }
        }
      ]
    },
    {
      "cell_type": "markdown",
      "metadata": {
        "id": "h0ZvTvT7_def",
        "colab_type": "text"
      },
      "source": [
        "### Experiments"
      ]
    },
    {
      "cell_type": "code",
      "metadata": {
        "id": "qtH406-QCmav",
        "colab_type": "code",
        "colab": {
          "base_uri": "https://localhost:8080/",
          "height": 34
        },
        "outputId": "b6b5891e-f93f-4815-9a86-92f4d08c6974"
      },
      "source": [
        "x_train.shape"
      ],
      "execution_count": 51,
      "outputs": [
        {
          "output_type": "execute_result",
          "data": {
            "text/plain": [
              "(60000, 28, 28)"
            ]
          },
          "metadata": {
            "tags": []
          },
          "execution_count": 51
        }
      ]
    },
    {
      "cell_type": "code",
      "metadata": {
        "id": "szULhwb8C1xR",
        "colab_type": "code",
        "colab": {}
      },
      "source": [
        "x_train_tensor = tf.convert_to_tensor(x_train, dtype=tf.float32)"
      ],
      "execution_count": 0,
      "outputs": []
    },
    {
      "cell_type": "code",
      "metadata": {
        "id": "4h_L0vgsC7H4",
        "colab_type": "code",
        "colab": {
          "base_uri": "https://localhost:8080/",
          "height": 34
        },
        "outputId": "1fe885c3-3d4c-4726-bb30-7aa89c3e5dee"
      },
      "source": [
        "x_train_tensor.shape"
      ],
      "execution_count": 55,
      "outputs": [
        {
          "output_type": "execute_result",
          "data": {
            "text/plain": [
              "TensorShape([60000, 28, 28])"
            ]
          },
          "metadata": {
            "tags": []
          },
          "execution_count": 55
        }
      ]
    },
    {
      "cell_type": "code",
      "metadata": {
        "id": "RcY-3qiNDNia",
        "colab_type": "code",
        "colab": {
          "base_uri": "https://localhost:8080/",
          "height": 34
        },
        "outputId": "3d2d5ec1-65f5-4a2d-cb86-74c23322b184"
      },
      "source": [
        "x_train_tensor.dtype"
      ],
      "execution_count": 58,
      "outputs": [
        {
          "output_type": "execute_result",
          "data": {
            "text/plain": [
              "tf.float32"
            ]
          },
          "metadata": {
            "tags": []
          },
          "execution_count": 58
        }
      ]
    },
    {
      "cell_type": "code",
      "metadata": {
        "id": "8Ti4kSzeDgS8",
        "colab_type": "code",
        "colab": {}
      },
      "source": [
        ""
      ],
      "execution_count": 0,
      "outputs": []
    }
  ]
}