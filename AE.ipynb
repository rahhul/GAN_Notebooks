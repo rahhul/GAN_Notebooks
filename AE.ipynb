{
  "nbformat": 4,
  "nbformat_minor": 0,
  "metadata": {
    "colab": {
      "name": "AE",
      "provenance": [],
      "collapsed_sections": [],
      "authorship_tag": "ABX9TyPR+tLEoCbf63ejS4x/XBLW"
    },
    "kernelspec": {
      "name": "python3",
      "display_name": "Python 3"
    },
    "accelerator": "GPU"
  },
  "cells": [
    {
      "cell_type": "markdown",
      "metadata": {
        "id": "knYMUZ0HWmXQ",
        "colab_type": "text"
      },
      "source": [
        "# Autoencoders"
      ]
    },
    {
      "cell_type": "code",
      "metadata": {
        "id": "AsocL2wSWcOC",
        "colab_type": "code",
        "outputId": "dd0fe3a7-2ab4-4e0f-c2ec-55ed33986d0f",
        "colab": {
          "base_uri": "https://localhost:8080/",
          "height": 34
        }
      },
      "source": [
        "%tensorflow_version 2.x"
      ],
      "execution_count": 1,
      "outputs": [
        {
          "output_type": "stream",
          "text": [
            "TensorFlow 2.x selected.\n"
          ],
          "name": "stdout"
        }
      ]
    },
    {
      "cell_type": "code",
      "metadata": {
        "id": "90BYDfGFWl0m",
        "colab_type": "code",
        "colab": {}
      },
      "source": [
        "import sklearn\n",
        "\n",
        "import tensorflow as tf\n",
        "from tensorflow import keras\n",
        "\n",
        "import numpy as np\n",
        "\n",
        "np.random.seed(42)\n",
        "tf.random.set_seed(42)\n",
        "\n",
        "%matplotlib inline\n",
        "import matplotlib.pyplot as plt\n",
        "import matplotlib as mpl\n"
      ],
      "execution_count": 0,
      "outputs": []
    },
    {
      "cell_type": "code",
      "metadata": {
        "id": "K_W_lFgAW7h1",
        "colab_type": "code",
        "colab": {}
      },
      "source": [
        "# helper function \n",
        "\n",
        "def plot_image(image):\n",
        "    plt.imshow(image)\n",
        "    plt.axis('off')\n",
        "plt.show()"
      ],
      "execution_count": 0,
      "outputs": []
    },
    {
      "cell_type": "markdown",
      "metadata": {
        "id": "cEsPVuWoXF2k",
        "colab_type": "text"
      },
      "source": [
        "## Simplest Autoencoder"
      ]
    },
    {
      "cell_type": "code",
      "metadata": {
        "id": "J0y9nJ5VXLNW",
        "colab_type": "code",
        "colab": {}
      },
      "source": [
        "from tensorflow.keras.models import Model, Sequential\n",
        "from tensorflow.keras.layers import Dense, Input, Flatten, Reshape"
      ],
      "execution_count": 0,
      "outputs": []
    },
    {
      "cell_type": "code",
      "metadata": {
        "id": "a1CWYpi7XTdw",
        "colab_type": "code",
        "colab": {}
      },
      "source": [
        "encoding_dim = 32\n",
        "\n",
        "# input layer\n",
        "input_img = Input(shape=[784,])\n",
        "\n",
        "encoded = Dense(encoding_dim, activation='selu')(input_img)\n",
        "\n",
        "decoded = Dense(784, activation='sigmoid')(encoded)\n",
        "\n",
        "autoencoder = Model(input_img, decoded)"
      ],
      "execution_count": 0,
      "outputs": []
    },
    {
      "cell_type": "code",
      "metadata": {
        "id": "4jsGmcarX1gH",
        "colab_type": "code",
        "colab": {}
      },
      "source": [
        "# encoder model\n",
        "\n",
        "encoder = Model(input_img, encoded)\n",
        "\n",
        "# decoder model\n",
        "\n",
        "encoded_input = Input(shape=[encoding_dim,])\n",
        "\n",
        "decoder_layer = autoencoder.layers[-1]\n",
        "\n",
        "decoder = Model(encoded_input, decoder_layer(encoded_input))"
      ],
      "execution_count": 0,
      "outputs": []
    },
    {
      "cell_type": "code",
      "metadata": {
        "id": "EDZOe4OHYpJi",
        "colab_type": "code",
        "outputId": "f9b80733-542e-40bd-f296-708df74d671f",
        "colab": {
          "base_uri": "https://localhost:8080/",
          "height": 255
        }
      },
      "source": [
        "autoencoder.summary()"
      ],
      "execution_count": 7,
      "outputs": [
        {
          "output_type": "stream",
          "text": [
            "Model: \"model\"\n",
            "_________________________________________________________________\n",
            "Layer (type)                 Output Shape              Param #   \n",
            "=================================================================\n",
            "input_1 (InputLayer)         [(None, 784)]             0         \n",
            "_________________________________________________________________\n",
            "dense (Dense)                (None, 32)                25120     \n",
            "_________________________________________________________________\n",
            "dense_1 (Dense)              (None, 784)               25872     \n",
            "=================================================================\n",
            "Total params: 50,992\n",
            "Trainable params: 50,992\n",
            "Non-trainable params: 0\n",
            "_________________________________________________________________\n"
          ],
          "name": "stdout"
        }
      ]
    },
    {
      "cell_type": "code",
      "metadata": {
        "id": "xQqPtfPzYqbc",
        "colab_type": "code",
        "colab": {}
      },
      "source": [
        "autoencoder.compile(optimizer='adadelta', loss='binary_crossentropy')"
      ],
      "execution_count": 0,
      "outputs": []
    },
    {
      "cell_type": "markdown",
      "metadata": {
        "id": "dUT0my9qZaim",
        "colab_type": "text"
      },
      "source": [
        "## Load MNIST"
      ]
    },
    {
      "cell_type": "code",
      "metadata": {
        "id": "LUESY1M6ZcbQ",
        "colab_type": "code",
        "colab": {}
      },
      "source": [
        "from tensorflow.keras.datasets import mnist"
      ],
      "execution_count": 0,
      "outputs": []
    },
    {
      "cell_type": "code",
      "metadata": {
        "id": "3wl5cx7ZZgE4",
        "colab_type": "code",
        "colab": {}
      },
      "source": [
        "(x_train, _), (x_test, _) = mnist.load_data()"
      ],
      "execution_count": 0,
      "outputs": []
    },
    {
      "cell_type": "code",
      "metadata": {
        "id": "UfHfWynpZmdD",
        "colab_type": "code",
        "outputId": "b6b145cc-0ac6-4e0e-ead8-5f12971f5e69",
        "colab": {
          "base_uri": "https://localhost:8080/",
          "height": 34
        }
      },
      "source": [
        "print(x_train.shape, x_test.shape)"
      ],
      "execution_count": 11,
      "outputs": [
        {
          "output_type": "stream",
          "text": [
            "(60000, 28, 28) (10000, 28, 28)\n"
          ],
          "name": "stdout"
        }
      ]
    },
    {
      "cell_type": "code",
      "metadata": {
        "id": "VkBLRNkEZpGJ",
        "colab_type": "code",
        "outputId": "16284de7-3c70-4f2a-c482-8d2769f487a2",
        "colab": {
          "base_uri": "https://localhost:8080/",
          "height": 34
        }
      },
      "source": [
        "# Flatten into 2D array and normalise values\n",
        "\n",
        "x_train = x_train.astype(np.float32) / 255.0\n",
        "x_test = x_test.astype(np.float32) / 255.0\n",
        "\n",
        "x_train = x_train.reshape((len(x_train), np.prod(x_train.shape[1:])))\n",
        "x_test = x_test.reshape((len(x_test), np.prod(x_test.shape[1:])))\n",
        "\n",
        "print(x_train.shape, x_test.shape)"
      ],
      "execution_count": 12,
      "outputs": [
        {
          "output_type": "stream",
          "text": [
            "(60000, 784) (10000, 784)\n"
          ],
          "name": "stdout"
        }
      ]
    },
    {
      "cell_type": "code",
      "metadata": {
        "id": "c6ONg4q5aLPi",
        "colab_type": "code",
        "outputId": "fa6f8b46-4e9c-4c6c-c9bc-6d729ed323bb",
        "colab": {
          "base_uri": "https://localhost:8080/",
          "height": 391
        }
      },
      "source": [
        "# fit model\n",
        "np.random.seed(42)\n",
        "tf.random.set_seed(42)\n",
        "\n",
        "autoencoder.fit(x_train, x_train, \n",
        "                epochs=10, \n",
        "                batch_size=256, \n",
        "                shuffle=True, \n",
        "                validation_data=(x_test, x_test))"
      ],
      "execution_count": 13,
      "outputs": [
        {
          "output_type": "stream",
          "text": [
            "Train on 60000 samples, validate on 10000 samples\n",
            "Epoch 1/10\n",
            "60000/60000 [==============================] - 2s 28us/sample - loss: 0.6963 - val_loss: 0.6961\n",
            "Epoch 2/10\n",
            "60000/60000 [==============================] - 1s 19us/sample - loss: 0.6959 - val_loss: 0.6957\n",
            "Epoch 3/10\n",
            "60000/60000 [==============================] - 1s 19us/sample - loss: 0.6954 - val_loss: 0.6953\n",
            "Epoch 4/10\n",
            "60000/60000 [==============================] - 1s 19us/sample - loss: 0.6950 - val_loss: 0.6949\n",
            "Epoch 5/10\n",
            "60000/60000 [==============================] - 1s 19us/sample - loss: 0.6946 - val_loss: 0.6944\n",
            "Epoch 6/10\n",
            "60000/60000 [==============================] - 1s 19us/sample - loss: 0.6942 - val_loss: 0.6940\n",
            "Epoch 7/10\n",
            "60000/60000 [==============================] - 1s 19us/sample - loss: 0.6938 - val_loss: 0.6936\n",
            "Epoch 8/10\n",
            "60000/60000 [==============================] - 1s 19us/sample - loss: 0.6934 - val_loss: 0.6932\n",
            "Epoch 9/10\n",
            "60000/60000 [==============================] - 1s 19us/sample - loss: 0.6930 - val_loss: 0.6928\n",
            "Epoch 10/10\n",
            "60000/60000 [==============================] - 1s 19us/sample - loss: 0.6926 - val_loss: 0.6924\n"
          ],
          "name": "stdout"
        },
        {
          "output_type": "execute_result",
          "data": {
            "text/plain": [
              "<tensorflow.python.keras.callbacks.History at 0x7f28b1109550>"
            ]
          },
          "metadata": {
            "tags": []
          },
          "execution_count": 13
        }
      ]
    },
    {
      "cell_type": "code",
      "metadata": {
        "id": "pRIUJfkVafp8",
        "colab_type": "code",
        "colab": {}
      },
      "source": [
        "encoded_imgs = encoder.predict(x_test)\n",
        "decoded_imgs = decoder.predict(encoded_imgs)"
      ],
      "execution_count": 0,
      "outputs": []
    },
    {
      "cell_type": "code",
      "metadata": {
        "id": "VHAmgBdxbXRl",
        "colab_type": "code",
        "outputId": "a2bd3827-7c1b-463f-85e5-843388942ebc",
        "colab": {
          "base_uri": "https://localhost:8080/",
          "height": 34
        }
      },
      "source": [
        "decoded_imgs.shape"
      ],
      "execution_count": 15,
      "outputs": [
        {
          "output_type": "execute_result",
          "data": {
            "text/plain": [
              "(10000, 784)"
            ]
          },
          "metadata": {
            "tags": []
          },
          "execution_count": 15
        }
      ]
    },
    {
      "cell_type": "code",
      "metadata": {
        "id": "n6kZadVIbYqL",
        "colab_type": "code",
        "outputId": "e0e42b51-d17d-4f8d-9dfe-05bd606805eb",
        "colab": {
          "base_uri": "https://localhost:8080/",
          "height": 197
        }
      },
      "source": [
        "n = 10  # how many digits we will display\n",
        "plt.figure(figsize=(10, 4))\n",
        "for i in range(n):\n",
        "    # display original\n",
        "    ax = plt.subplot(2, n, i + 1)\n",
        "    plt.imshow(x_test[i].reshape(28, 28))\n",
        "    plt.gray()\n",
        "    plt.axis('off')\n",
        "\n",
        "    # display reconstruction\n",
        "    ax = plt.subplot(2, n, i + 1 + n)\n",
        "    plt.imshow(decoded_imgs[i].reshape(28, 28))\n",
        "    plt.gray()\n",
        "    plt.axis('off')\n",
        "plt.show()"
      ],
      "execution_count": 16,
      "outputs": [
        {
          "output_type": "display_data",
          "data": {
            "image/png": "[encoded data removed]",
            "text/plain": [
              "<Figure size 720x288 with 20 Axes>"
            ]
          },
          "metadata": {
            "tags": []
          }
        }
      ]
    },
    {
      "cell_type": "code",
      "metadata": {
        "id": "MWEJWXZV-qmO",
        "colab_type": "code",
        "colab": {}
      },
      "source": [
        "from tensorflow.keras import regularizers"
      ],
      "execution_count": 0,
      "outputs": []
    },
    {
      "cell_type": "code",
      "metadata": {
        "id": "HvQlAaeHbgIU",
        "colab_type": "code",
        "colab": {}
      },
      "source": [
        "# Alternative Stacked Ae with Activity regularizer\n",
        "\n",
        "stacked_encoder = Sequential(\n",
        "    [\n",
        "     Input(shape=[784, ]),\n",
        "     Dense(100, activation='selu', activity_regularizer=regularizers.l1(10e-5)),\n",
        "     Dense(encoding_dim, activation='selu', activity_regularizer=regularizers.l1(10e-5))\n",
        "    ]\n",
        ")\n",
        "\n",
        "stacked_decoder = Sequential(\n",
        "    [\n",
        "     Input(shape=(encoding_dim,)),\n",
        "     Dense(100, activation='selu'),\n",
        "     Dense(784, activation='sigmoid')\n",
        "    ]\n",
        ")"
      ],
      "execution_count": 0,
      "outputs": []
    },
    {
      "cell_type": "code",
      "metadata": {
        "id": "BZVX7ho7dxfN",
        "colab_type": "code",
        "colab": {}
      },
      "source": [
        "stacked_ae = Sequential([stacked_encoder, stacked_decoder])"
      ],
      "execution_count": 0,
      "outputs": []
    },
    {
      "cell_type": "code",
      "metadata": {
        "id": "jOd10mOqd207",
        "colab_type": "code",
        "colab": {}
      },
      "source": [
        "stacked_ae.compile(optimizer=tf.keras.optimizers.SGD(lr=1.5), loss='binary_crossentropy')"
      ],
      "execution_count": 0,
      "outputs": []
    },
    {
      "cell_type": "code",
      "metadata": {
        "id": "yUvYi2AReFKR",
        "colab_type": "code",
        "outputId": "a1cee8ae-04c5-4500-f313-e608d66788a6",
        "colab": {
          "base_uri": "https://localhost:8080/",
          "height": 391
        }
      },
      "source": [
        "# fit\n",
        "\n",
        "np.random.seed(42)\n",
        "tf.random.set_seed(42)\n",
        "\n",
        "stacked_ae.fit(x_train, x_train, \n",
        "                epochs=10, \n",
        "                batch_size=256, \n",
        "                shuffle=True, \n",
        "                validation_data=(x_test, x_test))"
      ],
      "execution_count": 21,
      "outputs": [
        {
          "output_type": "stream",
          "text": [
            "Train on 60000 samples, validate on 10000 samples\n",
            "Epoch 1/10\n",
            "60000/60000 [==============================] - 2s 33us/sample - loss: 0.2848 - val_loss: 0.2362\n",
            "Epoch 2/10\n",
            "60000/60000 [==============================] - 1s 23us/sample - loss: 0.2128 - val_loss: 0.1924\n",
            "Epoch 3/10\n",
            "60000/60000 [==============================] - 1s 23us/sample - loss: 0.1847 - val_loss: 0.1747\n",
            "Epoch 4/10\n",
            "60000/60000 [==============================] - 1s 23us/sample - loss: 0.1695 - val_loss: 0.1633\n",
            "Epoch 5/10\n",
            "60000/60000 [==============================] - 1s 23us/sample - loss: 0.1592 - val_loss: 0.1532\n",
            "Epoch 6/10\n",
            "60000/60000 [==============================] - 1s 23us/sample - loss: 0.1521 - val_loss: 0.1478\n",
            "Epoch 7/10\n",
            "60000/60000 [==============================] - 1s 23us/sample - loss: 0.1464 - val_loss: 0.1412\n",
            "Epoch 8/10\n",
            "60000/60000 [==============================] - 1s 22us/sample - loss: 0.1414 - val_loss: 0.1378\n",
            "Epoch 9/10\n",
            "60000/60000 [==============================] - 1s 23us/sample - loss: 0.1369 - val_loss: 0.1339\n",
            "Epoch 10/10\n",
            "60000/60000 [==============================] - 1s 23us/sample - loss: 0.1332 - val_loss: 0.1293\n"
          ],
          "name": "stdout"
        },
        {
          "output_type": "execute_result",
          "data": {
            "text/plain": [
              "<tensorflow.python.keras.callbacks.History at 0x7f28b008c898>"
            ]
          },
          "metadata": {
            "tags": []
          },
          "execution_count": 21
        }
      ]
    },
    {
      "cell_type": "code",
      "metadata": {
        "id": "6xIEnNutePWV",
        "colab_type": "code",
        "colab": {}
      },
      "source": [
        "stacked_encoder_imgs = stacked_encoder.predict(x_test)\n",
        "\n",
        "stacked_decoded_imgs = stacked_decoder.predict(stacked_encoder_imgs)"
      ],
      "execution_count": 0,
      "outputs": []
    },
    {
      "cell_type": "code",
      "metadata": {
        "id": "8o77doiCfIa0",
        "colab_type": "code",
        "outputId": "e38a391a-30a2-45d4-cb1a-12515417f493",
        "colab": {
          "base_uri": "https://localhost:8080/",
          "height": 197
        }
      },
      "source": [
        "n = 10  # how many digits we will display\n",
        "plt.figure(figsize=(10, 4))\n",
        "for i in range(n):\n",
        "    # display original\n",
        "    ax = plt.subplot(2, n, i + 1)\n",
        "    plt.imshow(x_test[i].reshape(28, 28))\n",
        "    plt.gray()\n",
        "    plt.axis('off')\n",
        "\n",
        "    # display reconstruction\n",
        "    ax = plt.subplot(2, n, i + 1 + n)\n",
        "    plt.imshow(stacked_decoded_imgs[i].reshape(28, 28))\n",
        "    plt.gray()\n",
        "    plt.axis('off')\n",
        "plt.show()"
      ],
      "execution_count": 23,
      "outputs": [
        {
          "output_type": "display_data",
          "data": {
            "image/png": "[encoded data removed]",
            "text/plain": [
              "<Figure size 720x288 with 20 Axes>"
            ]
          },
          "metadata": {
            "tags": []
          }
        }
      ]
    },
    {
      "cell_type": "markdown",
      "metadata": {
        "id": "LlJXHAM2fWL0",
        "colab_type": "text"
      },
      "source": [
        "### Show Reconstructions"
      ]
    },
    {
      "cell_type": "code",
      "metadata": {
        "id": "pT8wpz3m_MkJ",
        "colab_type": "code",
        "colab": {}
      },
      "source": [
        "# utility function to show reconstructions\n",
        "\n",
        "def show_reconstructions(model, images = x_test, n_images=10):\n",
        "    reconstructions = model.predict(images[:n_images])\n",
        "    fig = plt.figure(figsize=(n_images * 1.5, 3))\n",
        "    for image_idx in range(n_images):\n",
        "        plt.subplot(2, n_images, image_idx + 1)\n",
        "        # original\n",
        "        plot_image(images[image_idx].reshape(28, 28))\n",
        "        # model images\n",
        "        plt.subplot(2, n_images, image_idx + 1 + n_images)\n",
        "        plot_image(reconstructions[image_idx].reshape(28, 28))\n",
        "plt.show()"
      ],
      "execution_count": 0,
      "outputs": []
    },
    {
      "cell_type": "code",
      "metadata": {
        "id": "EvrXFpf5ALGP",
        "colab_type": "code",
        "colab": {
          "base_uri": "https://localhost:8080/",
          "height": 191
        },
        "outputId": "cd5f05cc-84f7-4f5d-fe46-7c54a0ef11c0"
      },
      "source": [
        "show_reconstructions(stacked_ae)"
      ],
      "execution_count": 25,
      "outputs": [
        {
          "output_type": "display_data",
          "data": {
            "image/png": "[encoded data removed]",
            "text/plain": [
              "<Figure size 1080x216 with 20 Axes>"
            ]
          },
          "metadata": {
            "tags": []
          }
        }
      ]
    },
    {
      "cell_type": "code",
      "metadata": {
        "id": "KwPsPJ-_ANkf",
        "colab_type": "code",
        "colab": {
          "base_uri": "https://localhost:8080/",
          "height": 34
        },
        "outputId": "5d545c6d-bac4-4d92-b8c8-2c5dcd0bfde9"
      },
      "source": [
        "print(stacked_encoder_imgs.mean())"
      ],
      "execution_count": 26,
      "outputs": [
        {
          "output_type": "stream",
          "text": [
            "1.4120773\n"
          ],
          "name": "stdout"
        }
      ]
    },
    {
      "cell_type": "markdown",
      "metadata": {
        "id": "6AmvoUA6BRtt",
        "colab_type": "text"
      },
      "source": [
        "## Convolutional Autoencoder"
      ]
    },
    {
      "cell_type": "code",
      "metadata": {
        "id": "oEMuHvN6CUyW",
        "colab_type": "code",
        "colab": {}
      },
      "source": [
        "from tensorflow.keras.layers import Conv2D, MaxPool2D, UpSampling2D, Conv2DTranspose"
      ],
      "execution_count": 0,
      "outputs": []
    },
    {
      "cell_type": "code",
      "metadata": {
        "id": "JKMRPLxKJ8pT",
        "colab_type": "code",
        "colab": {
          "base_uri": "https://localhost:8080/",
          "height": 68
        },
        "outputId": "df17887c-7c81-4972-fcb0-a9350ded85d4"
      },
      "source": [
        "from keras.datasets import mnist\n",
        "import numpy as np\n",
        "\n",
        "(x_train, _), (x_test, _) = mnist.load_data()\n",
        "\n",
        "x_train = x_train.astype('float32') / 255.\n",
        "x_test = x_test.astype('float32') / 255.\n",
        "x_train = np.reshape(x_train, (len(x_train), 28, 28, 1)) \n",
        "x_test = np.reshape(x_test, (len(x_test), 28, 28, 1))"
      ],
      "execution_count": 6,
      "outputs": [
        {
          "output_type": "stream",
          "text": [
            "Using TensorFlow backend.\n"
          ],
          "name": "stderr"
        },
        {
          "output_type": "stream",
          "text": [
            "Downloading data from https://s3.amazonaws.com/img-datasets/mnist.npz\n",
            "11493376/11490434 [==============================] - 1s 0us/step\n"
          ],
          "name": "stdout"
        }
      ]
    },
    {
      "cell_type": "code",
      "metadata": {
        "id": "CmvK_U-LC4Q1",
        "colab_type": "code",
        "colab": {}
      },
      "source": [
        "np.random.seed(42)\n",
        "tf.random.set_seed(42)\n",
        "\n",
        "conv_encoder = Sequential(\n",
        "    [\n",
        "     Conv2D(filters=16, kernel_size=3, padding='same', activation='relu', input_shape=[28, 28, 1]),\n",
        "     MaxPool2D(pool_size=2, padding='same'),\n",
        "     Conv2D(8, kernel_size=3, padding='same', activation='selu'),\n",
        "     MaxPool2D(pool_size=2, padding='same'),\n",
        "     Conv2D(8, kernel_size=3, padding='same', activation='selu'),\n",
        "     MaxPool2D(pool_size=2, padding='same')\n",
        "    ]\n",
        ")\n",
        "\n",
        "# output representation is [4, 4, 8] -> 128 dimensional\n",
        "\n",
        "conv_decoder = Sequential(\n",
        "    [\n",
        "     Conv2D(8, (3, 3),  activation='selu', padding='same', input_shape=[4, 4, 8]),\n",
        "     UpSampling2D(size=(2, 2)),\n",
        "     Conv2D(8, (3, 3), activation='selu', padding='same'),\n",
        "     UpSampling2D((2, 2)),\n",
        "     Conv2D(16, (3, 3), activation='selu'),\n",
        "     UpSampling2D((2, 2)),\n",
        "     Conv2D(1, (3, 3), activation='sigmoid', padding='same')\n",
        "    ]\n",
        ")"
      ],
      "execution_count": 0,
      "outputs": []
    },
    {
      "cell_type": "code",
      "metadata": {
        "id": "MbIr_XJdGLSC",
        "colab_type": "code",
        "colab": {
          "base_uri": "https://localhost:8080/",
          "height": 357
        },
        "outputId": "03abb530-bd93-4c77-91c6-c3ae12bdec80"
      },
      "source": [
        "conv_encoder.summary()"
      ],
      "execution_count": 14,
      "outputs": [
        {
          "output_type": "stream",
          "text": [
            "Model: \"sequential\"\n",
            "_________________________________________________________________\n",
            "Layer (type)                 Output Shape              Param #   \n",
            "=================================================================\n",
            "conv2d (Conv2D)              (None, 28, 28, 16)        160       \n",
            "_________________________________________________________________\n",
            "max_pooling2d (MaxPooling2D) (None, 14, 14, 16)        0         \n",
            "_________________________________________________________________\n",
            "conv2d_1 (Conv2D)            (None, 14, 14, 8)         1160      \n",
            "_________________________________________________________________\n",
            "max_pooling2d_1 (MaxPooling2 (None, 7, 7, 8)           0         \n",
            "_________________________________________________________________\n",
            "conv2d_2 (Conv2D)            (None, 7, 7, 8)           584       \n",
            "_________________________________________________________________\n",
            "max_pooling2d_2 (MaxPooling2 (None, 4, 4, 8)           0         \n",
            "=================================================================\n",
            "Total params: 1,904\n",
            "Trainable params: 1,904\n",
            "Non-trainable params: 0\n",
            "_________________________________________________________________\n"
          ],
          "name": "stdout"
        }
      ]
    },
    {
      "cell_type": "code",
      "metadata": {
        "id": "CdyNPbDAGNP0",
        "colab_type": "code",
        "colab": {
          "base_uri": "https://localhost:8080/",
          "height": 391
        },
        "outputId": "a56ad451-db65-4b84-9d7b-d7d56497dae1"
      },
      "source": [
        "conv_decoder.summary()"
      ],
      "execution_count": 15,
      "outputs": [
        {
          "output_type": "stream",
          "text": [
            "Model: \"sequential_1\"\n",
            "_________________________________________________________________\n",
            "Layer (type)                 Output Shape              Param #   \n",
            "=================================================================\n",
            "conv2d_3 (Conv2D)            (None, 4, 4, 8)           584       \n",
            "_________________________________________________________________\n",
            "up_sampling2d (UpSampling2D) (None, 8, 8, 8)           0         \n",
            "_________________________________________________________________\n",
            "conv2d_4 (Conv2D)            (None, 8, 8, 8)           584       \n",
            "_________________________________________________________________\n",
            "up_sampling2d_1 (UpSampling2 (None, 16, 16, 8)         0         \n",
            "_________________________________________________________________\n",
            "conv2d_5 (Conv2D)            (None, 14, 14, 16)        1168      \n",
            "_________________________________________________________________\n",
            "up_sampling2d_2 (UpSampling2 (None, 28, 28, 16)        0         \n",
            "_________________________________________________________________\n",
            "conv2d_6 (Conv2D)            (None, 28, 28, 1)         145       \n",
            "=================================================================\n",
            "Total params: 2,481\n",
            "Trainable params: 2,481\n",
            "Non-trainable params: 0\n",
            "_________________________________________________________________\n"
          ],
          "name": "stdout"
        }
      ]
    },
    {
      "cell_type": "code",
      "metadata": {
        "id": "-l_UX8M8GPy4",
        "colab_type": "code",
        "colab": {}
      },
      "source": [
        "conv_autoencoder = Sequential([conv_encoder, conv_decoder])"
      ],
      "execution_count": 0,
      "outputs": []
    },
    {
      "cell_type": "code",
      "metadata": {
        "id": "AbrlPkhdJP17",
        "colab_type": "code",
        "colab": {}
      },
      "source": [
        "tf.keras.backend.clear_session()"
      ],
      "execution_count": 0,
      "outputs": []
    },
    {
      "cell_type": "code",
      "metadata": {
        "id": "NfvbGE5QRKnI",
        "colab_type": "code",
        "colab": {
          "base_uri": "https://localhost:8080/",
          "height": 221
        },
        "outputId": "964dc223-0881-4012-c2b8-83b922c2bb77"
      },
      "source": [
        "conv_autoencoder.summary()"
      ],
      "execution_count": 18,
      "outputs": [
        {
          "output_type": "stream",
          "text": [
            "Model: \"sequential_2\"\n",
            "_________________________________________________________________\n",
            "Layer (type)                 Output Shape              Param #   \n",
            "=================================================================\n",
            "sequential (Sequential)      (None, 4, 4, 8)           1904      \n",
            "_________________________________________________________________\n",
            "sequential_1 (Sequential)    (None, 28, 28, 1)         2481      \n",
            "=================================================================\n",
            "Total params: 4,385\n",
            "Trainable params: 4,385\n",
            "Non-trainable params: 0\n",
            "_________________________________________________________________\n"
          ],
          "name": "stdout"
        }
      ]
    },
    {
      "cell_type": "code",
      "metadata": {
        "id": "_wQPAAtRGXNB",
        "colab_type": "code",
        "colab": {}
      },
      "source": [
        "conv_autoencoder.compile(optimizer=tf.keras.optimizers.Adadelta(), loss='binary_crossentropy')"
      ],
      "execution_count": 0,
      "outputs": []
    },
    {
      "cell_type": "code",
      "metadata": {
        "id": "E1I_aZmHHjhT",
        "colab_type": "code",
        "colab": {
          "base_uri": "https://localhost:8080/",
          "height": 901
        },
        "outputId": "c9b85f23-fe8d-45a2-aad6-9241a7404c61"
      },
      "source": [
        "conv_autoencoder.fit(x_train, x_train,\n",
        "                epochs=25,\n",
        "                batch_size=128,\n",
        "                shuffle=True,\n",
        "                validation_data=(x_test, x_test))\n"
      ],
      "execution_count": 20,
      "outputs": [
        {
          "output_type": "stream",
          "text": [
            "Train on 60000 samples, validate on 10000 samples\n",
            "Epoch 1/25\n",
            "60000/60000 [==============================] - 10s 174us/sample - loss: 0.7186 - val_loss: 0.6877\n",
            "Epoch 2/25\n",
            "60000/60000 [==============================] - 3s 55us/sample - loss: 0.6488 - val_loss: 0.6026\n",
            "Epoch 3/25\n",
            "60000/60000 [==============================] - 3s 55us/sample - loss: 0.5517 - val_loss: 0.5059\n",
            "Epoch 4/25\n",
            "60000/60000 [==============================] - 3s 55us/sample - loss: 0.4737 - val_loss: 0.4498\n",
            "Epoch 5/25\n",
            "60000/60000 [==============================] - 3s 55us/sample - loss: 0.4268 - val_loss: 0.4078\n",
            "Epoch 6/25\n",
            "60000/60000 [==============================] - 3s 55us/sample - loss: 0.3865 - val_loss: 0.3685\n",
            "Epoch 7/25\n",
            "60000/60000 [==============================] - 3s 55us/sample - loss: 0.3501 - val_loss: 0.3346\n",
            "Epoch 8/25\n",
            "60000/60000 [==============================] - 3s 55us/sample - loss: 0.3208 - val_loss: 0.3092\n",
            "Epoch 9/25\n",
            "60000/60000 [==============================] - 3s 55us/sample - loss: 0.2997 - val_loss: 0.2916\n",
            "Epoch 10/25\n",
            "60000/60000 [==============================] - 3s 55us/sample - loss: 0.2851 - val_loss: 0.2794\n",
            "Epoch 11/25\n",
            "60000/60000 [==============================] - 3s 55us/sample - loss: 0.2748 - val_loss: 0.2705\n",
            "Epoch 12/25\n",
            "60000/60000 [==============================] - 3s 56us/sample - loss: 0.2670 - val_loss: 0.2637\n",
            "Epoch 13/25\n",
            "60000/60000 [==============================] - 3s 55us/sample - loss: 0.2610 - val_loss: 0.2583\n",
            "Epoch 14/25\n",
            "60000/60000 [==============================] - 3s 54us/sample - loss: 0.2560 - val_loss: 0.2538\n",
            "Epoch 15/25\n",
            "60000/60000 [==============================] - 3s 55us/sample - loss: 0.2519 - val_loss: 0.2501\n",
            "Epoch 16/25\n",
            "60000/60000 [==============================] - 3s 55us/sample - loss: 0.2485 - val_loss: 0.2469\n",
            "Epoch 17/25\n",
            "60000/60000 [==============================] - 3s 56us/sample - loss: 0.2455 - val_loss: 0.2441\n",
            "Epoch 18/25\n",
            "60000/60000 [==============================] - 3s 55us/sample - loss: 0.2428 - val_loss: 0.2416\n",
            "Epoch 19/25\n",
            "60000/60000 [==============================] - 3s 55us/sample - loss: 0.2404 - val_loss: 0.2393\n",
            "Epoch 20/25\n",
            "60000/60000 [==============================] - 3s 55us/sample - loss: 0.2383 - val_loss: 0.2373\n",
            "Epoch 21/25\n",
            "60000/60000 [==============================] - 3s 56us/sample - loss: 0.2364 - val_loss: 0.2355\n",
            "Epoch 22/25\n",
            "60000/60000 [==============================] - 3s 54us/sample - loss: 0.2346 - val_loss: 0.2338\n",
            "Epoch 23/25\n",
            "60000/60000 [==============================] - 3s 54us/sample - loss: 0.2330 - val_loss: 0.2322\n",
            "Epoch 24/25\n",
            "60000/60000 [==============================] - 3s 56us/sample - loss: 0.2315 - val_loss: 0.2307\n",
            "Epoch 25/25\n",
            "60000/60000 [==============================] - 3s 54us/sample - loss: 0.2301 - val_loss: 0.2294\n"
          ],
          "name": "stdout"
        },
        {
          "output_type": "execute_result",
          "data": {
            "text/plain": [
              "<tensorflow.python.keras.callbacks.History at 0x7f7484167438>"
            ]
          },
          "metadata": {
            "tags": []
          },
          "execution_count": 20
        }
      ]
    },
    {
      "cell_type": "code",
      "metadata": {
        "id": "c_CCplQgHoQp",
        "colab_type": "code",
        "colab": {}
      },
      "source": [
        "conv_decoded_imgs = conv_autoencoder.predict(x_test)"
      ],
      "execution_count": 0,
      "outputs": []
    },
    {
      "cell_type": "code",
      "metadata": {
        "id": "6bjuYi1pQ0oG",
        "colab_type": "code",
        "colab": {
          "base_uri": "https://localhost:8080/",
          "height": 197
        },
        "outputId": "fd5a78ff-68f7-46df-e4fc-3712e2ec4a1c"
      },
      "source": [
        "n = 10  \n",
        "plt.figure(figsize=(10, 4))\n",
        "for i in range(n):\n",
        "    # display original\n",
        "    ax = plt.subplot(2, n, i + 1)\n",
        "    plt.imshow(x_test[i].reshape(28, 28))\n",
        "    plt.gray()\n",
        "    plt.axis('off')\n",
        "\n",
        "    # display reconstruction\n",
        "    ax = plt.subplot(2, n, i + 1 + n)\n",
        "    plt.imshow(conv_decoded_imgs[i].reshape(28, 28))\n",
        "    plt.gray()\n",
        "    plt.axis('off')\n",
        "plt.show()"
      ],
      "execution_count": 22,
      "outputs": [
        {
          "output_type": "display_data",
          "data": {
            "image/png": "[encoded data removed]",
            "text/plain": [
              "<Figure size 720x288 with 20 Axes>"
            ]
          },
          "metadata": {
            "tags": []
          }
        }
      ]
    },
    {
      "cell_type": "code",
      "metadata": {
        "id": "67G_aBY_hiwI",
        "colab_type": "code",
        "colab": {
          "base_uri": "https://localhost:8080/",
          "height": 34
        },
        "outputId": "7c4497f7-d384-468f-c688-23fa26301c5d"
      },
      "source": [
        "conv_encoded_imgs = conv_encoder.predict(x_test)\n",
        "\n",
        "conv_encoded_imgs.shape"
      ],
      "execution_count": 23,
      "outputs": [
        {
          "output_type": "execute_result",
          "data": {
            "text/plain": [
              "(10000, 4, 4, 8)"
            ]
          },
          "metadata": {
            "tags": []
          },
          "execution_count": 23
        }
      ]
    },
    {
      "cell_type": "code",
      "metadata": {
        "id": "FcF436qKS74Y",
        "colab_type": "code",
        "colab": {
          "base_uri": "https://localhost:8080/",
          "height": 391
        },
        "outputId": "d8edb99a-7fe2-4a16-fddd-130b5a68232e"
      },
      "source": [
        "# visualise encoded representations\n",
        "\n",
        "n = 10\n",
        "plt.figure(figsize=(10, 8))\n",
        "for i in range(n):\n",
        "    ax = plt.subplot(2, n, i + 1)\n",
        "    plt.imshow(x_test[i].reshape(28, 28))\n",
        "    plt.gray()\n",
        "    plt.axis('off')\n",
        "\n",
        "    ax = plt.subplot(2, n, i+1+n)\n",
        "    plt.imshow(conv_encoded_imgs[i].reshape(4, 4*8).T)\n",
        "    plt.gray()\n",
        "    plt.axis('off')"
      ],
      "execution_count": 24,
      "outputs": [
        {
          "output_type": "display_data",
          "data": {
            "image/png": "[encoded data removed]",
            "text/plain": [
              "<Figure size 720x576 with 20 Axes>"
            ]
          },
          "metadata": {
            "tags": []
          }
        }
      ]
    },
    {
      "cell_type": "code",
      "metadata": {
        "id": "Jd-OEx6Jk3If",
        "colab_type": "code",
        "colab": {}
      },
      "source": [
        ""
      ],
      "execution_count": 0,
      "outputs": []
    }
  ]
}